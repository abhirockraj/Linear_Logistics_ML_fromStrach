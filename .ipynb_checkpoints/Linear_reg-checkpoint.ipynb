{
 "cells": [
  {
   "cell_type": "code",
   "execution_count": 54,
   "id": "58d2ab4d",
   "metadata": {},
   "outputs": [],
   "source": [
    "import numpy as np\n",
    "import matplotlib.pyplot as plt"
   ]
  },
  {
   "cell_type": "code",
   "execution_count": 55,
   "id": "2f17ed27",
   "metadata": {},
   "outputs": [],
   "source": [
    "c= np.ones(10,dtype=int)\n",
    "a = np.random.randint(1,10,10,dtype=int)\n",
    "b = np.random.randint(1,10,10,dtype=int)"
   ]
  },
  {
   "cell_type": "code",
   "execution_count": 56,
   "id": "8f046ad6",
   "metadata": {},
   "outputs": [
    {
     "name": "stdout",
     "output_type": "stream",
     "text": [
      "[1 1 1 1 1 1 1 1 1 1]\n",
      "[4 6 2 8 4 4 4 8 3 9]\n",
      "[9 1 9 7 4 2 9 9 4 7]\n"
     ]
    }
   ],
   "source": [
    "print (c)\n",
    "print(a)\n",
    "print(b)"
   ]
  },
  {
   "cell_type": "code",
   "execution_count": 57,
   "id": "0b10d946",
   "metadata": {},
   "outputs": [
    {
     "data": {
      "text/plain": [
       "(3, 10)"
      ]
     },
     "execution_count": 57,
     "metadata": {},
     "output_type": "execute_result"
    }
   ],
   "source": [
    "x= np.vstack((c,a,b))\n",
    "x.shape"
   ]
  },
  {
   "cell_type": "code",
   "execution_count": 58,
   "id": "63affc74",
   "metadata": {},
   "outputs": [
    {
     "data": {
      "text/plain": [
       "(3,)"
      ]
     },
     "execution_count": 58,
     "metadata": {},
     "output_type": "execute_result"
    }
   ],
   "source": [
    "th = np.array([5,2,3])\n",
    "th.reshape(1,3)\n",
    "th.shape"
   ]
  },
  {
   "cell_type": "code",
   "execution_count": 3,
   "id": "7281cc54",
   "metadata": {},
   "outputs": [
    {
     "ename": "NameError",
     "evalue": "name 'a' is not defined",
     "output_type": "error",
     "traceback": [
      "\u001b[1;31m---------------------------------------------------------------------------\u001b[0m",
      "\u001b[1;31mNameError\u001b[0m                                 Traceback (most recent call last)",
      "\u001b[1;32mC:\\Users\\ABHINA~1\\AppData\\Local\\Temp/ipykernel_10612/392554457.py\u001b[0m in \u001b[0;36m<module>\u001b[1;34m\u001b[0m\n\u001b[1;32m----> 1\u001b[1;33m \u001b[0my\u001b[0m \u001b[1;33m=\u001b[0m \u001b[1;36m5\u001b[0m\u001b[1;33m+\u001b[0m\u001b[1;36m2\u001b[0m\u001b[1;33m*\u001b[0m\u001b[0ma\u001b[0m\u001b[1;33m+\u001b[0m\u001b[1;36m3\u001b[0m\u001b[1;33m*\u001b[0m\u001b[0mb\u001b[0m\u001b[1;33m\u001b[0m\u001b[1;33m\u001b[0m\u001b[0m\n\u001b[0m",
      "\u001b[1;31mNameError\u001b[0m: name 'a' is not defined"
     ]
    }
   ],
   "source": [
    "# y = 5*c+2*a+3*b"
   ]
  },
  {
   "cell_type": "code",
   "execution_count": 59,
   "id": "5aeb4809",
   "metadata": {},
   "outputs": [
    {
     "data": {
      "text/plain": [
       "array([40, 20, 36, 42, 25, 19, 40, 48, 23, 44])"
      ]
     },
     "execution_count": 59,
     "metadata": {},
     "output_type": "execute_result"
    }
   ],
   "source": [
    "y = np.dot(th,x)\n",
    "y"
   ]
  },
  {
   "cell_type": "code",
   "execution_count": 60,
   "id": "8ebf5422",
   "metadata": {},
   "outputs": [
    {
     "data": {
      "text/plain": [
       "array([0, 0, 0])"
      ]
     },
     "execution_count": 60,
     "metadata": {},
     "output_type": "execute_result"
    }
   ],
   "source": [
    "th1 = np.zeros(3, dtype=int)\n",
    "th1"
   ]
  },
  {
   "cell_type": "code",
   "execution_count": 61,
   "id": "d9050f79",
   "metadata": {},
   "outputs": [],
   "source": [
    "cost =[]\n",
    "for i in range(0,1000):\n",
    "    yhat = np.dot(th1,x)\n",
    "    loss = yhat-y\n",
    "    cost.append((1/(2*3))*(np.sum(np.square(loss))))\n",
    "    th1 = th1- ((0.001/3)*(np.dot(loss,np.transpose(x))))\n",
    "#     print(th1)\n",
    "    "
   ]
  },
  {
   "cell_type": "code",
   "execution_count": 62,
   "id": "7664f6f7",
   "metadata": {},
   "outputs": [],
   "source": [
    "l=np.arange(1,1001)\n",
    "# print(l)"
   ]
  },
  {
   "cell_type": "code",
   "execution_count": 63,
   "id": "36cfb4f8",
   "metadata": {},
   "outputs": [
    {
     "data": {
      "image/png": "[encoded data removed]",
      "text/plain": [
       "<Figure size 432x288 with 1 Axes>"
      ]
     },
     "metadata": {
      "needs_background": "light"
     },
     "output_type": "display_data"
    }
   ],
   "source": [
    "plt.plot(l, cost, label = \"line 2\")\n",
    "  \n",
    "# naming the x axis\n",
    "plt.xlabel('iteration')\n",
    "# naming the y axis\n",
    "plt.ylabel('cost')\n",
    "# giving a title to my graph\n",
    "plt.title('Cost function LR!')\n",
    "  \n",
    "# show a legend on the plot\n",
    "plt.legend()\n",
    "  \n",
    "# function to show the plot\n",
    "plt.show()"
   ]
  },
  {
   "cell_type": "code",
   "execution_count": 64,
   "id": "5a2fe6ab",
   "metadata": {},
   "outputs": [
    {
     "name": "stdout",
     "output_type": "stream",
     "text": [
      "[1.75101639 2.31305094 3.2119535 ]\n"
     ]
    }
   ],
   "source": [
    "print(th1)"
   ]
  },
  {
   "cell_type": "code",
   "execution_count": 65,
   "id": "ed52f7f1",
   "metadata": {},
   "outputs": [
    {
     "name": "stdout",
     "output_type": "stream",
     "text": [
      "[39.91080164 18.84127551 35.28469976 42.73909839 23.85103414 17.42712714\n",
      " 39.91080164 49.16300539 21.5379832  45.05214932]\n"
     ]
    }
   ],
   "source": [
    "ypredict=  np.dot(th1,x)\n",
    "print(ypredict)"
   ]
  },
  {
   "cell_type": "code",
   "execution_count": 66,
   "id": "8165aced",
   "metadata": {},
   "outputs": [
    {
     "data": {
      "text/plain": [
       "array([40, 20, 36, 42, 25, 19, 40, 48, 23, 44])"
      ]
     },
     "execution_count": 66,
     "metadata": {},
     "output_type": "execute_result"
    }
   ],
   "source": [
    "y"
   ]
  },
  {
   "cell_type": "code",
   "execution_count": null,
   "id": "46b68961",
   "metadata": {},
   "outputs": [],
   "source": []
  }
 ],
 "metadata": {
  "kernelspec": {
   "display_name": "Python 3 (ipykernel)",
   "language": "python",
   "name": "python3"
  },
  "language_info": {
   "codemirror_mode": {
    "name": "ipython",
    "version": 3
   },
   "file_extension": ".py",
   "mimetype": "text/x-python",
   "name": "python",
   "nbconvert_exporter": "python",
   "pygments_lexer": "ipython3",
   "version": "3.8.11"
  }
 },
 "nbformat": 4,
 "nbformat_minor": 5
}
